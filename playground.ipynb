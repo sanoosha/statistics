{
 "cells": [
  {
   "cell_type": "code",
   "execution_count": 217,
   "metadata": {},
   "outputs": [],
   "source": [
    "import pandas as pd\n",
    "import numpy as np\n",
    "import matplotlib.pyplot as plt\n",
    "from datetime import datetime as dt\n",
    "from scipy.stats import linregress\n",
    "from scipy.optimize import curve_fit"
   ]
  },
  {
   "cell_type": "code",
   "execution_count": 233,
   "metadata": {},
   "outputs": [],
   "source": [
    "df  = pd.read_csv('app_events.csv')"
   ]
  },
  {
   "cell_type": "code",
   "execution_count": 234,
   "metadata": {},
   "outputs": [
    {
     "name": "stdout",
     "output_type": "stream",
     "text": [
      "<class 'pandas.core.frame.DataFrame'>\n",
      "RangeIndex: 44284 entries, 0 to 44283\n",
      "Data columns (total 4 columns):\n",
      " #   Column    Non-Null Count  Dtype \n",
      "---  ------    --------------  ----- \n",
      " 0   time      44284 non-null  int64 \n",
      " 1   user_id   44284 non-null  object\n",
      " 2   event     44284 non-null  object\n",
      " 3   language  44284 non-null  object\n",
      "dtypes: int64(1), object(3)\n",
      "memory usage: 865.0+ KB\n"
     ]
    }
   ],
   "source": [
    "df.info()"
   ]
  },
  {
   "cell_type": "code",
   "execution_count": 235,
   "metadata": {},
   "outputs": [
    {
     "data": {
      "text/html": [
       "<div>\n",
       "<style scoped>\n",
       "    .dataframe tbody tr th:only-of-type {\n",
       "        vertical-align: middle;\n",
       "    }\n",
       "\n",
       "    .dataframe tbody tr th {\n",
       "        vertical-align: top;\n",
       "    }\n",
       "\n",
       "    .dataframe thead th {\n",
       "        text-align: right;\n",
       "    }\n",
       "</style>\n",
       "<table border=\"1\" class=\"dataframe\">\n",
       "  <thead>\n",
       "    <tr style=\"text-align: right;\">\n",
       "      <th></th>\n",
       "      <th>time</th>\n",
       "      <th>user_id</th>\n",
       "      <th>event</th>\n",
       "      <th>language</th>\n",
       "    </tr>\n",
       "  </thead>\n",
       "  <tbody>\n",
       "    <tr>\n",
       "      <th>0</th>\n",
       "      <td>1625908379</td>\n",
       "      <td>user_sw3kh5lxfre9o3ct</td>\n",
       "      <td>sign_in</td>\n",
       "      <td>es</td>\n",
       "    </tr>\n",
       "    <tr>\n",
       "      <th>1</th>\n",
       "      <td>1625916537</td>\n",
       "      <td>user_sw3kh5lxfre9o3ct</td>\n",
       "      <td>message_received</td>\n",
       "      <td>es</td>\n",
       "    </tr>\n",
       "    <tr>\n",
       "      <th>2</th>\n",
       "      <td>1625916646</td>\n",
       "      <td>user_sw3kh5lxfre9o3ct</td>\n",
       "      <td>message_received</td>\n",
       "      <td>es</td>\n",
       "    </tr>\n",
       "    <tr>\n",
       "      <th>3</th>\n",
       "      <td>1625916689</td>\n",
       "      <td>user_sw3kh5lxfre9o3ct</td>\n",
       "      <td>message_sent</td>\n",
       "      <td>es</td>\n",
       "    </tr>\n",
       "    <tr>\n",
       "      <th>4</th>\n",
       "      <td>1625917021</td>\n",
       "      <td>user_sw3kh5lxfre9o3ct</td>\n",
       "      <td>message_received</td>\n",
       "      <td>es</td>\n",
       "    </tr>\n",
       "  </tbody>\n",
       "</table>\n",
       "</div>"
      ],
      "text/plain": [
       "         time                user_id             event language\n",
       "0  1625908379  user_sw3kh5lxfre9o3ct           sign_in       es\n",
       "1  1625916537  user_sw3kh5lxfre9o3ct  message_received       es\n",
       "2  1625916646  user_sw3kh5lxfre9o3ct  message_received       es\n",
       "3  1625916689  user_sw3kh5lxfre9o3ct      message_sent       es\n",
       "4  1625917021  user_sw3kh5lxfre9o3ct  message_received       es"
      ]
     },
     "execution_count": 235,
     "metadata": {},
     "output_type": "execute_result"
    }
   ],
   "source": [
    "df.head()"
   ]
  },
  {
   "cell_type": "markdown",
   "metadata": {},
   "source": [
    "## Clean data"
   ]
  },
  {
   "cell_type": "code",
   "execution_count": 236,
   "metadata": {},
   "outputs": [],
   "source": [
    "event_value_counts = df.event.value_counts()"
   ]
  },
  {
   "cell_type": "code",
   "execution_count": 237,
   "metadata": {},
   "outputs": [],
   "source": [
    "## Remove data that has events where that only show up once \n",
    "event_list = event_value_counts[event_value_counts > 1].index.tolist()"
   ]
  },
  {
   "cell_type": "code",
   "execution_count": 238,
   "metadata": {},
   "outputs": [],
   "source": [
    "df = df[df.event.isin(event_list)]"
   ]
  },
  {
   "cell_type": "code",
   "execution_count": 240,
   "metadata": {},
   "outputs": [],
   "source": [
    "## Convert unix time to datetime and extract date from datetime\n",
    "df['time'] = pd.to_datetime(df.time, unit='s')\n",
    "df['date'] = df['time'].astype('M8[D]')"
   ]
  },
  {
   "cell_type": "markdown",
   "metadata": {},
   "source": [
    "## Calculate and visualize the number of daily active users"
   ]
  },
  {
   "cell_type": "code",
   "execution_count": 90,
   "metadata": {},
   "outputs": [],
   "source": [
    "df_dau = df[df['event'].str.contains('message')]"
   ]
  },
  {
   "cell_type": "code",
   "execution_count": 91,
   "metadata": {},
   "outputs": [],
   "source": [
    "# df_dau['date'] = df_dau['time'].astype('M8[D]')"
   ]
  },
  {
   "cell_type": "code",
   "execution_count": 92,
   "metadata": {},
   "outputs": [],
   "source": [
    "df_dau_date = df_dau.groupby('date').user_id.nunique()"
   ]
  },
  {
   "cell_type": "code",
   "execution_count": 264,
   "metadata": {},
   "outputs": [
    {
     "data": {
      "text/plain": [
       "<AxesSubplot:xlabel='date'>"
      ]
     },
     "execution_count": 264,
     "metadata": {},
     "output_type": "execute_result"
    },
    {
     "data": {
      "image/png": "[encoded data removed]",
      "text/plain": [
       "<Figure size 720x360 with 1 Axes>"
      ]
     },
     "metadata": {
      "needs_background": "light"
     },
     "output_type": "display_data"
    }
   ],
   "source": [
    "df_dau_date.plot(figsize=(10,5))"
   ]
  },
  {
   "cell_type": "code",
   "execution_count": 256,
   "metadata": {},
   "outputs": [
    {
     "data": {
      "text/html": [
       "<div>\n",
       "<style scoped>\n",
       "    .dataframe tbody tr th:only-of-type {\n",
       "        vertical-align: middle;\n",
       "    }\n",
       "\n",
       "    .dataframe tbody tr th {\n",
       "        vertical-align: top;\n",
       "    }\n",
       "\n",
       "    .dataframe thead tr th {\n",
       "        text-align: left;\n",
       "    }\n",
       "\n",
       "    .dataframe thead tr:last-of-type th {\n",
       "        text-align: right;\n",
       "    }\n",
       "</style>\n",
       "<table border=\"1\" class=\"dataframe\">\n",
       "  <thead>\n",
       "    <tr>\n",
       "      <th></th>\n",
       "      <th colspan=\"2\" halign=\"left\">time</th>\n",
       "      <th>user_id</th>\n",
       "    </tr>\n",
       "    <tr>\n",
       "      <th></th>\n",
       "      <th>amin</th>\n",
       "      <th>amax</th>\n",
       "      <th>unique</th>\n",
       "    </tr>\n",
       "    <tr>\n",
       "      <th>date</th>\n",
       "      <th></th>\n",
       "      <th></th>\n",
       "      <th></th>\n",
       "    </tr>\n",
       "  </thead>\n",
       "  <tbody>\n",
       "    <tr>\n",
       "      <th>2021-07-10</th>\n",
       "      <td>2021-07-10 02:21:11</td>\n",
       "      <td>2021-07-10 23:59:30</td>\n",
       "      <td>[user_03bkhgxmsyjjkq4c, user_0ksgouxviwdltgpx,...</td>\n",
       "    </tr>\n",
       "    <tr>\n",
       "      <th>2021-07-11</th>\n",
       "      <td>2021-07-11 00:00:41</td>\n",
       "      <td>2021-07-11 23:59:27</td>\n",
       "      <td>[user_03bkhgxmsyjjkq4c, user_08eziztmoj72lyri,...</td>\n",
       "    </tr>\n",
       "    <tr>\n",
       "      <th>2021-07-12</th>\n",
       "      <td>2021-07-12 00:00:01</td>\n",
       "      <td>2021-07-12 23:59:59</td>\n",
       "      <td>[user_03bkhgxmsyjjkq4c, user_08eziztmoj72lyri,...</td>\n",
       "    </tr>\n",
       "    <tr>\n",
       "      <th>2021-07-13</th>\n",
       "      <td>2021-07-13 00:00:10</td>\n",
       "      <td>2021-07-13 23:58:58</td>\n",
       "      <td>[user_03bkhgxmsyjjkq4c, user_08eziztmoj72lyri,...</td>\n",
       "    </tr>\n",
       "    <tr>\n",
       "      <th>2021-07-14</th>\n",
       "      <td>2021-07-14 00:00:19</td>\n",
       "      <td>2021-07-14 23:59:43</td>\n",
       "      <td>[user_03bkhgxmsyjjkq4c, user_08eziztmoj72lyri,...</td>\n",
       "    </tr>\n",
       "    <tr>\n",
       "      <th>2021-07-15</th>\n",
       "      <td>2021-07-15 00:00:43</td>\n",
       "      <td>2021-07-15 23:59:45</td>\n",
       "      <td>[user_03bkhgxmsyjjkq4c, user_08eziztmoj72lyri,...</td>\n",
       "    </tr>\n",
       "    <tr>\n",
       "      <th>2021-07-16</th>\n",
       "      <td>2021-07-16 00:00:28</td>\n",
       "      <td>2021-07-16 23:59:53</td>\n",
       "      <td>[user_03bkhgxmsyjjkq4c, user_08eziztmoj72lyri,...</td>\n",
       "    </tr>\n",
       "    <tr>\n",
       "      <th>2021-07-17</th>\n",
       "      <td>2021-07-17 00:00:10</td>\n",
       "      <td>2021-07-17 02:18:55</td>\n",
       "      <td>[user_03bkhgxmsyjjkq4c, user_1ffhqtentfsgoafl,...</td>\n",
       "    </tr>\n",
       "  </tbody>\n",
       "</table>\n",
       "</div>"
      ],
      "text/plain": [
       "                          time                      \\\n",
       "                          amin                amax   \n",
       "date                                                 \n",
       "2021-07-10 2021-07-10 02:21:11 2021-07-10 23:59:30   \n",
       "2021-07-11 2021-07-11 00:00:41 2021-07-11 23:59:27   \n",
       "2021-07-12 2021-07-12 00:00:01 2021-07-12 23:59:59   \n",
       "2021-07-13 2021-07-13 00:00:10 2021-07-13 23:58:58   \n",
       "2021-07-14 2021-07-14 00:00:19 2021-07-14 23:59:43   \n",
       "2021-07-15 2021-07-15 00:00:43 2021-07-15 23:59:45   \n",
       "2021-07-16 2021-07-16 00:00:28 2021-07-16 23:59:53   \n",
       "2021-07-17 2021-07-17 00:00:10 2021-07-17 02:18:55   \n",
       "\n",
       "                                                      user_id  \n",
       "                                                       unique  \n",
       "date                                                           \n",
       "2021-07-10  [user_03bkhgxmsyjjkq4c, user_0ksgouxviwdltgpx,...  \n",
       "2021-07-11  [user_03bkhgxmsyjjkq4c, user_08eziztmoj72lyri,...  \n",
       "2021-07-12  [user_03bkhgxmsyjjkq4c, user_08eziztmoj72lyri,...  \n",
       "2021-07-13  [user_03bkhgxmsyjjkq4c, user_08eziztmoj72lyri,...  \n",
       "2021-07-14  [user_03bkhgxmsyjjkq4c, user_08eziztmoj72lyri,...  \n",
       "2021-07-15  [user_03bkhgxmsyjjkq4c, user_08eziztmoj72lyri,...  \n",
       "2021-07-16  [user_03bkhgxmsyjjkq4c, user_08eziztmoj72lyri,...  \n",
       "2021-07-17  [user_03bkhgxmsyjjkq4c, user_1ffhqtentfsgoafl,...  "
      ]
     },
     "execution_count": 256,
     "metadata": {},
     "output_type": "execute_result"
    }
   ],
   "source": [
    "df_dau.groupby('date').agg({'time': [np.min, np.max], 'user_id': np.unique})"
   ]
  },
  {
   "cell_type": "markdown",
   "metadata": {},
   "source": [
    "Clearly there is lower amount of daily active users on July 10th and July 17th. This could be due to the data not being collected for the full day especially on July 17th, however, this is not as applicable for July 10th. The plot shows that the daily active users are steadily increasing from July 11th to July 16th.  To show that the difference between July 11th and July 17th are statistically signficant, you can do a hypothesis test of difference between two proportions."
   ]
  },
  {
   "cell_type": "markdown",
   "metadata": {},
   "source": [
    "## Calculate and visualize the d1 retention rate.\n",
    "The d1 retention rate is the number of active users on day 1 divided by the number of users that signed up on day 0."
   ]
  },
  {
   "cell_type": "code",
   "execution_count": 94,
   "metadata": {},
   "outputs": [
    {
     "data": {
      "text/html": [
       "<div>\n",
       "<style scoped>\n",
       "    .dataframe tbody tr th:only-of-type {\n",
       "        vertical-align: middle;\n",
       "    }\n",
       "\n",
       "    .dataframe tbody tr th {\n",
       "        vertical-align: top;\n",
       "    }\n",
       "\n",
       "    .dataframe thead th {\n",
       "        text-align: right;\n",
       "    }\n",
       "</style>\n",
       "<table border=\"1\" class=\"dataframe\">\n",
       "  <thead>\n",
       "    <tr style=\"text-align: right;\">\n",
       "      <th></th>\n",
       "      <th>time</th>\n",
       "      <th>user_id</th>\n",
       "      <th>event</th>\n",
       "      <th>language</th>\n",
       "      <th>date</th>\n",
       "    </tr>\n",
       "  </thead>\n",
       "  <tbody>\n",
       "    <tr>\n",
       "      <th>0</th>\n",
       "      <td>2021-07-10 09:12:59</td>\n",
       "      <td>user_sw3kh5lxfre9o3ct</td>\n",
       "      <td>sign_in</td>\n",
       "      <td>es</td>\n",
       "      <td>2021-07-10</td>\n",
       "    </tr>\n",
       "    <tr>\n",
       "      <th>1</th>\n",
       "      <td>2021-07-10 11:28:57</td>\n",
       "      <td>user_sw3kh5lxfre9o3ct</td>\n",
       "      <td>message_received</td>\n",
       "      <td>es</td>\n",
       "      <td>2021-07-10</td>\n",
       "    </tr>\n",
       "    <tr>\n",
       "      <th>2</th>\n",
       "      <td>2021-07-10 11:30:46</td>\n",
       "      <td>user_sw3kh5lxfre9o3ct</td>\n",
       "      <td>message_received</td>\n",
       "      <td>es</td>\n",
       "      <td>2021-07-10</td>\n",
       "    </tr>\n",
       "    <tr>\n",
       "      <th>3</th>\n",
       "      <td>2021-07-10 11:31:29</td>\n",
       "      <td>user_sw3kh5lxfre9o3ct</td>\n",
       "      <td>message_sent</td>\n",
       "      <td>es</td>\n",
       "      <td>2021-07-10</td>\n",
       "    </tr>\n",
       "    <tr>\n",
       "      <th>4</th>\n",
       "      <td>2021-07-10 11:37:01</td>\n",
       "      <td>user_sw3kh5lxfre9o3ct</td>\n",
       "      <td>message_received</td>\n",
       "      <td>es</td>\n",
       "      <td>2021-07-10</td>\n",
       "    </tr>\n",
       "  </tbody>\n",
       "</table>\n",
       "</div>"
      ],
      "text/plain": [
       "                 time                user_id             event language  \\\n",
       "0 2021-07-10 09:12:59  user_sw3kh5lxfre9o3ct           sign_in       es   \n",
       "1 2021-07-10 11:28:57  user_sw3kh5lxfre9o3ct  message_received       es   \n",
       "2 2021-07-10 11:30:46  user_sw3kh5lxfre9o3ct  message_received       es   \n",
       "3 2021-07-10 11:31:29  user_sw3kh5lxfre9o3ct      message_sent       es   \n",
       "4 2021-07-10 11:37:01  user_sw3kh5lxfre9o3ct  message_received       es   \n",
       "\n",
       "        date  \n",
       "0 2021-07-10  \n",
       "1 2021-07-10  \n",
       "2 2021-07-10  \n",
       "3 2021-07-10  \n",
       "4 2021-07-10  "
      ]
     },
     "execution_count": 94,
     "metadata": {},
     "output_type": "execute_result"
    }
   ],
   "source": [
    "df.head()"
   ]
  },
  {
   "cell_type": "code",
   "execution_count": 95,
   "metadata": {},
   "outputs": [],
   "source": [
    "df_sign_up = df[df['event'] == 'sign_up']"
   ]
  },
  {
   "cell_type": "code",
   "execution_count": 96,
   "metadata": {},
   "outputs": [],
   "source": [
    "df_sign_up = df_sign_up.rename(columns={'date':'sign_up_date'})"
   ]
  },
  {
   "cell_type": "code",
   "execution_count": 123,
   "metadata": {},
   "outputs": [],
   "source": [
    "df_sign_up['active_date'] = df_sign_up['sign_up_date'] + pd.DateOffset(1)"
   ]
  },
  {
   "cell_type": "code",
   "execution_count": 124,
   "metadata": {},
   "outputs": [
    {
     "data": {
      "text/html": [
       "<div>\n",
       "<style scoped>\n",
       "    .dataframe tbody tr th:only-of-type {\n",
       "        vertical-align: middle;\n",
       "    }\n",
       "\n",
       "    .dataframe tbody tr th {\n",
       "        vertical-align: top;\n",
       "    }\n",
       "\n",
       "    .dataframe thead th {\n",
       "        text-align: right;\n",
       "    }\n",
       "</style>\n",
       "<table border=\"1\" class=\"dataframe\">\n",
       "  <thead>\n",
       "    <tr style=\"text-align: right;\">\n",
       "      <th></th>\n",
       "      <th>time</th>\n",
       "      <th>user_id</th>\n",
       "      <th>event</th>\n",
       "      <th>language</th>\n",
       "      <th>sign_up_date</th>\n",
       "      <th>active_date</th>\n",
       "      <th>active_date</th>\n",
       "    </tr>\n",
       "  </thead>\n",
       "  <tbody>\n",
       "    <tr>\n",
       "      <th>2864</th>\n",
       "      <td>2021-07-10 03:04:37</td>\n",
       "      <td>user_rafuu2ce7hs2pkkx</td>\n",
       "      <td>sign_up</td>\n",
       "      <td>en</td>\n",
       "      <td>2021-07-10</td>\n",
       "      <td>2021-07-11</td>\n",
       "      <td>2021-07-11</td>\n",
       "    </tr>\n",
       "    <tr>\n",
       "      <th>5079</th>\n",
       "      <td>2021-07-10 10:24:44</td>\n",
       "      <td>user_vdpwfnh2ypm5jelz</td>\n",
       "      <td>sign_up</td>\n",
       "      <td>en</td>\n",
       "      <td>2021-07-10</td>\n",
       "      <td>2021-07-11</td>\n",
       "      <td>2021-07-11</td>\n",
       "    </tr>\n",
       "    <tr>\n",
       "      <th>6148</th>\n",
       "      <td>2021-07-10 10:11:35</td>\n",
       "      <td>user_hxvqospg9o3njzts</td>\n",
       "      <td>sign_up</td>\n",
       "      <td>pt</td>\n",
       "      <td>2021-07-10</td>\n",
       "      <td>2021-07-11</td>\n",
       "      <td>2021-07-11</td>\n",
       "    </tr>\n",
       "    <tr>\n",
       "      <th>7755</th>\n",
       "      <td>2021-07-10 03:04:13</td>\n",
       "      <td>user_xmch30hoxdzcsex5</td>\n",
       "      <td>sign_up</td>\n",
       "      <td>zh-Hans</td>\n",
       "      <td>2021-07-10</td>\n",
       "      <td>2021-07-11</td>\n",
       "      <td>2021-07-11</td>\n",
       "    </tr>\n",
       "    <tr>\n",
       "      <th>7924</th>\n",
       "      <td>2021-07-10 11:46:27</td>\n",
       "      <td>user_os5rsm1gtih6bkf9</td>\n",
       "      <td>sign_up</td>\n",
       "      <td>en</td>\n",
       "      <td>2021-07-10</td>\n",
       "      <td>2021-07-11</td>\n",
       "      <td>2021-07-11</td>\n",
       "    </tr>\n",
       "    <tr>\n",
       "      <th>...</th>\n",
       "      <td>...</td>\n",
       "      <td>...</td>\n",
       "      <td>...</td>\n",
       "      <td>...</td>\n",
       "      <td>...</td>\n",
       "      <td>...</td>\n",
       "      <td>...</td>\n",
       "    </tr>\n",
       "    <tr>\n",
       "      <th>44271</th>\n",
       "      <td>2021-07-17 02:18:02</td>\n",
       "      <td>user_hqfsqdlisaczb25g</td>\n",
       "      <td>sign_up</td>\n",
       "      <td>en</td>\n",
       "      <td>2021-07-17</td>\n",
       "      <td>2021-07-18</td>\n",
       "      <td>2021-07-18</td>\n",
       "    </tr>\n",
       "    <tr>\n",
       "      <th>44273</th>\n",
       "      <td>2021-07-17 02:16:52</td>\n",
       "      <td>user_7dkydkqphhkqzak3</td>\n",
       "      <td>sign_up</td>\n",
       "      <td>es</td>\n",
       "      <td>2021-07-17</td>\n",
       "      <td>2021-07-18</td>\n",
       "      <td>2021-07-18</td>\n",
       "    </tr>\n",
       "    <tr>\n",
       "      <th>44275</th>\n",
       "      <td>2021-07-17 02:17:51</td>\n",
       "      <td>user_srqqbf48papxju3g</td>\n",
       "      <td>sign_up</td>\n",
       "      <td>en</td>\n",
       "      <td>2021-07-17</td>\n",
       "      <td>2021-07-18</td>\n",
       "      <td>2021-07-18</td>\n",
       "    </tr>\n",
       "    <tr>\n",
       "      <th>44277</th>\n",
       "      <td>2021-07-17 02:18:54</td>\n",
       "      <td>user_s5z4e8jwtpsojciw</td>\n",
       "      <td>sign_up</td>\n",
       "      <td>en</td>\n",
       "      <td>2021-07-17</td>\n",
       "      <td>2021-07-18</td>\n",
       "      <td>2021-07-18</td>\n",
       "    </tr>\n",
       "    <tr>\n",
       "      <th>44279</th>\n",
       "      <td>2021-07-17 02:17:42</td>\n",
       "      <td>user_rwjgjqwazdbnfjmn</td>\n",
       "      <td>sign_up</td>\n",
       "      <td>en</td>\n",
       "      <td>2021-07-17</td>\n",
       "      <td>2021-07-18</td>\n",
       "      <td>2021-07-18</td>\n",
       "    </tr>\n",
       "  </tbody>\n",
       "</table>\n",
       "<p>2680 rows × 7 columns</p>\n",
       "</div>"
      ],
      "text/plain": [
       "                     time                user_id    event language  \\\n",
       "2864  2021-07-10 03:04:37  user_rafuu2ce7hs2pkkx  sign_up       en   \n",
       "5079  2021-07-10 10:24:44  user_vdpwfnh2ypm5jelz  sign_up       en   \n",
       "6148  2021-07-10 10:11:35  user_hxvqospg9o3njzts  sign_up       pt   \n",
       "7755  2021-07-10 03:04:13  user_xmch30hoxdzcsex5  sign_up  zh-Hans   \n",
       "7924  2021-07-10 11:46:27  user_os5rsm1gtih6bkf9  sign_up       en   \n",
       "...                   ...                    ...      ...      ...   \n",
       "44271 2021-07-17 02:18:02  user_hqfsqdlisaczb25g  sign_up       en   \n",
       "44273 2021-07-17 02:16:52  user_7dkydkqphhkqzak3  sign_up       es   \n",
       "44275 2021-07-17 02:17:51  user_srqqbf48papxju3g  sign_up       en   \n",
       "44277 2021-07-17 02:18:54  user_s5z4e8jwtpsojciw  sign_up       en   \n",
       "44279 2021-07-17 02:17:42  user_rwjgjqwazdbnfjmn  sign_up       en   \n",
       "\n",
       "      sign_up_date active_date  active_date  \n",
       "2864    2021-07-10   2021-07-11  2021-07-11  \n",
       "5079    2021-07-10   2021-07-11  2021-07-11  \n",
       "6148    2021-07-10   2021-07-11  2021-07-11  \n",
       "7755    2021-07-10   2021-07-11  2021-07-11  \n",
       "7924    2021-07-10   2021-07-11  2021-07-11  \n",
       "...            ...          ...         ...  \n",
       "44271   2021-07-17   2021-07-18  2021-07-18  \n",
       "44273   2021-07-17   2021-07-18  2021-07-18  \n",
       "44275   2021-07-17   2021-07-18  2021-07-18  \n",
       "44277   2021-07-17   2021-07-18  2021-07-18  \n",
       "44279   2021-07-17   2021-07-18  2021-07-18  \n",
       "\n",
       "[2680 rows x 7 columns]"
      ]
     },
     "execution_count": 124,
     "metadata": {},
     "output_type": "execute_result"
    }
   ],
   "source": [
    "df_sign_up"
   ]
  },
  {
   "cell_type": "code",
   "execution_count": 258,
   "metadata": {},
   "outputs": [
    {
     "name": "stderr",
     "output_type": "stream",
     "text": [
      "c:\\Users\\sanoo\\data_eng_projects\\spotify_recommendations\\venv\\lib\\site-packages\\pandas\\core\\frame.py:5042: SettingWithCopyWarning: \n",
      "A value is trying to be set on a copy of a slice from a DataFrame\n",
      "\n",
      "See the caveats in the documentation: https://pandas.pydata.org/pandas-docs/stable/user_guide/indexing.html#returning-a-view-versus-a-copy\n",
      "  errors=errors,\n"
     ]
    },
    {
     "data": {
      "text/html": [
       "<div>\n",
       "<style scoped>\n",
       "    .dataframe tbody tr th:only-of-type {\n",
       "        vertical-align: middle;\n",
       "    }\n",
       "\n",
       "    .dataframe tbody tr th {\n",
       "        vertical-align: top;\n",
       "    }\n",
       "\n",
       "    .dataframe thead th {\n",
       "        text-align: right;\n",
       "    }\n",
       "</style>\n",
       "<table border=\"1\" class=\"dataframe\">\n",
       "  <thead>\n",
       "    <tr style=\"text-align: right;\">\n",
       "      <th></th>\n",
       "      <th>time</th>\n",
       "      <th>user_id</th>\n",
       "      <th>event</th>\n",
       "      <th>language</th>\n",
       "      <th>active_date</th>\n",
       "    </tr>\n",
       "  </thead>\n",
       "  <tbody>\n",
       "    <tr>\n",
       "      <th>1</th>\n",
       "      <td>2021-07-10 11:28:57</td>\n",
       "      <td>user_sw3kh5lxfre9o3ct</td>\n",
       "      <td>message_received</td>\n",
       "      <td>es</td>\n",
       "      <td>2021-07-10</td>\n",
       "    </tr>\n",
       "    <tr>\n",
       "      <th>2</th>\n",
       "      <td>2021-07-10 11:30:46</td>\n",
       "      <td>user_sw3kh5lxfre9o3ct</td>\n",
       "      <td>message_received</td>\n",
       "      <td>es</td>\n",
       "      <td>2021-07-10</td>\n",
       "    </tr>\n",
       "    <tr>\n",
       "      <th>3</th>\n",
       "      <td>2021-07-10 11:31:29</td>\n",
       "      <td>user_sw3kh5lxfre9o3ct</td>\n",
       "      <td>message_sent</td>\n",
       "      <td>es</td>\n",
       "      <td>2021-07-10</td>\n",
       "    </tr>\n",
       "    <tr>\n",
       "      <th>4</th>\n",
       "      <td>2021-07-10 11:37:01</td>\n",
       "      <td>user_sw3kh5lxfre9o3ct</td>\n",
       "      <td>message_received</td>\n",
       "      <td>es</td>\n",
       "      <td>2021-07-10</td>\n",
       "    </tr>\n",
       "    <tr>\n",
       "      <th>5</th>\n",
       "      <td>2021-07-10 11:39:28</td>\n",
       "      <td>user_sw3kh5lxfre9o3ct</td>\n",
       "      <td>message_received</td>\n",
       "      <td>es</td>\n",
       "      <td>2021-07-10</td>\n",
       "    </tr>\n",
       "  </tbody>\n",
       "</table>\n",
       "</div>"
      ],
      "text/plain": [
       "                 time                user_id             event language  \\\n",
       "1 2021-07-10 11:28:57  user_sw3kh5lxfre9o3ct  message_received       es   \n",
       "2 2021-07-10 11:30:46  user_sw3kh5lxfre9o3ct  message_received       es   \n",
       "3 2021-07-10 11:31:29  user_sw3kh5lxfre9o3ct      message_sent       es   \n",
       "4 2021-07-10 11:37:01  user_sw3kh5lxfre9o3ct  message_received       es   \n",
       "5 2021-07-10 11:39:28  user_sw3kh5lxfre9o3ct  message_received       es   \n",
       "\n",
       "  active_date  \n",
       "1  2021-07-10  \n",
       "2  2021-07-10  \n",
       "3  2021-07-10  \n",
       "4  2021-07-10  \n",
       "5  2021-07-10  "
      ]
     },
     "execution_count": 258,
     "metadata": {},
     "output_type": "execute_result"
    }
   ],
   "source": [
    "df_messages = df[df.event.str.contains('message')]\n",
    "df_messages.rename(columns={'date': 'active_date'}, inplace=True)\n",
    "df_messages.head()"
   ]
  },
  {
   "cell_type": "code",
   "execution_count": 204,
   "metadata": {},
   "outputs": [],
   "source": [
    "d1_retention = df_sign_up.merge(df_messages, on=['user_id','active_date'], how='left')#, suffixes=('_l', '_r'))"
   ]
  },
  {
   "cell_type": "code",
   "execution_count": 205,
   "metadata": {},
   "outputs": [
    {
     "name": "stdout",
     "output_type": "stream",
     "text": [
      "<class 'pandas.core.frame.DataFrame'>\n",
      "Int64Index: 3788 entries, 0 to 3787\n",
      "Data columns (total 10 columns):\n",
      " #   Column        Non-Null Count  Dtype         \n",
      "---  ------        --------------  -----         \n",
      " 0   time_x        3788 non-null   datetime64[ns]\n",
      " 1   user_id       3788 non-null   object        \n",
      " 2   event_x       3788 non-null   object        \n",
      " 3   language_x    3788 non-null   object        \n",
      " 4   sign_up_date  3788 non-null   datetime64[ns]\n",
      " 5   active_date   3788 non-null   datetime64[ns]\n",
      " 6   active_date   3788 non-null   datetime64[ns]\n",
      " 7   time_y        1180 non-null   datetime64[ns]\n",
      " 8   event_y       1180 non-null   object        \n",
      " 9   language_y    1180 non-null   object        \n",
      "dtypes: datetime64[ns](5), object(5)\n",
      "memory usage: 251.5+ KB\n"
     ]
    }
   ],
   "source": [
    "d1_retention.info()"
   ]
  },
  {
   "cell_type": "code",
   "execution_count": 206,
   "metadata": {},
   "outputs": [],
   "source": [
    "d1_retention = d1_retention.groupby('sign_up_date').count()"
   ]
  },
  {
   "cell_type": "code",
   "execution_count": 207,
   "metadata": {},
   "outputs": [],
   "source": [
    "d1_retention = d1_retention.time_y/d1_retention.time_x"
   ]
  },
  {
   "cell_type": "code",
   "execution_count": 263,
   "metadata": {},
   "outputs": [
    {
     "data": {
      "text/plain": [
       "<AxesSubplot:xlabel='sign_up_date'>"
      ]
     },
     "execution_count": 263,
     "metadata": {},
     "output_type": "execute_result"
    },
    {
     "data": {
      "image/png": "[encoded data removed]",
      "text/plain": [
       "<Figure size 720x360 with 1 Axes>"
      ]
     },
     "metadata": {
      "needs_background": "light"
     },
     "output_type": "display_data"
    }
   ],
   "source": [
    "d1_retention.plot(figsize=(10,5))"
   ]
  },
  {
   "cell_type": "markdown",
   "metadata": {},
   "source": [
    "The d1 retention rate is decreasing over the 7 day period. We need to see if the d1 retention rate is a truly a indicator of how well the app is doing. We should calculate and predict how the d2, d3 and so on so forth retention rate is."
   ]
  },
  {
   "cell_type": "markdown",
   "metadata": {},
   "source": [
    "## Predict d1 retnetion rate to day 14."
   ]
  },
  {
   "cell_type": "code",
   "execution_count": 210,
   "metadata": {},
   "outputs": [],
   "source": [
    "d14_regression = d1_retention.to_frame()\n",
    "d14_regression['rn'] = np.arange(len(d14_regression))+1"
   ]
  },
  {
   "cell_type": "code",
   "execution_count": 211,
   "metadata": {},
   "outputs": [],
   "source": [
    "d14_regression = d14_regression.rename(columns={0: 'd1_retention'}).reset_index()"
   ]
  },
  {
   "cell_type": "code",
   "execution_count": 270,
   "metadata": {},
   "outputs": [
    {
     "data": {
      "text/plain": [
       "LinregressResult(slope=-0.09550739558144691, intercept=0.6319455163794412, rvalue=-0.8952372066092765, pvalue=0.0026533700758174486, stderr=0.019407007580854507, intercept_stderr=0.09800058445083519)"
      ]
     },
     "execution_count": 270,
     "metadata": {},
     "output_type": "execute_result"
    }
   ],
   "source": [
    "res = linregress(d14_regression.rn, d14_regression.d1_retention)\n",
    "res"
   ]
  },
  {
   "cell_type": "code",
   "execution_count": 213,
   "metadata": {},
   "outputs": [
    {
     "data": {
      "image/png": "[encoded data removed]",
      "text/plain": [
       "<Figure size 432x288 with 1 Axes>"
      ]
     },
     "metadata": {
      "needs_background": "light"
     },
     "output_type": "display_data"
    }
   ],
   "source": [
    "plt.plot(d14_regression.rn, d14_regression.d1_retention, 'o', label='original data')\n",
    "plt.plot(d14_regression.rn, res.intercept + res.slope*d14_regression.rn, 'r', label='fitted line')\n",
    "plt.legend()\n",
    "plt.show()"
   ]
  },
  {
   "cell_type": "code",
   "execution_count": 266,
   "metadata": {},
   "outputs": [
    {
     "name": "stdout",
     "output_type": "stream",
     "text": [
      "Predicting D1 retention rate to day 14 with Linear Regression:  -0.705\n"
     ]
    }
   ],
   "source": [
    "print('Predicting D1 retention rate to day 14 with Linear Regression: ', \"{:.3f}\".format(res.slope*14 + res.intercept))"
   ]
  },
  {
   "cell_type": "markdown",
   "metadata": {},
   "source": [
    "Using linear regression is not possible since the d1 retention rate cannot be less than zero.  The d1 retention rate is decreasing and approaching 0, so the data is more exponential than linear. Switching to use exponential regression instead of linear regression to predict the d14 retention rate."
   ]
  },
  {
   "cell_type": "code",
   "execution_count": 224,
   "metadata": {},
   "outputs": [],
   "source": [
    "def func(x, a, b, c):\n",
    "    return a * np.exp(-b * x) + c"
   ]
  },
  {
   "cell_type": "code",
   "execution_count": 219,
   "metadata": {},
   "outputs": [],
   "source": [
    "popt, pcov = curve_fit(func, d14_regression.rn, d14_regression.d1_retention)"
   ]
  },
  {
   "cell_type": "code",
   "execution_count": 231,
   "metadata": {},
   "outputs": [
    {
     "data": {
      "image/png": "[encoded data removed]",
      "text/plain": [
       "<Figure size 432x288 with 1 Axes>"
      ]
     },
     "metadata": {
      "needs_background": "light"
     },
     "output_type": "display_data"
    }
   ],
   "source": [
    "plt.plot(d14_regression.rn, func(d14_regression.rn, *popt), 'r-', label='fit: a=%5.2f, b=%5.2f, c=%5.2f' % tuple(popt))\n",
    "plt.plot(d14_regression.rn, d14_regression.d1_retention, 'o', label='orginal_data')\n",
    "plt.legend()\n",
    "plt.show()"
   ]
  },
  {
   "cell_type": "code",
   "execution_count": 265,
   "metadata": {},
   "outputs": [
    {
     "name": "stdout",
     "output_type": "stream",
     "text": [
      "Predicting D1 retention rate to day 14 with Exponential Regression:  -0.072\n"
     ]
    }
   ],
   "source": [
    "print('Predicting D1 retention rate to day 14 with Exponential Regression: ', \"{:.3f}\".format(func(14, *popt)))"
   ]
  },
  {
   "cell_type": "code",
   "execution_count": null,
   "metadata": {},
   "outputs": [],
   "source": []
  }
 ],
 "metadata": {
  "interpreter": {
   "hash": "2c6f464e6477cc073c406507bc5fe30b1db16ccd9543ee7f324438cf14c5515f"
  },
  "kernelspec": {
   "display_name": "Python 3.7.2 32-bit ('venv': venv)",
   "name": "python3"
  },
  "language_info": {
   "codemirror_mode": {
    "name": "ipython",
    "version": 3
   },
   "file_extension": ".py",
   "mimetype": "text/x-python",
   "name": "python",
   "nbconvert_exporter": "python",
   "pygments_lexer": "ipython3",
   "version": "3.7.2"
  },
  "orig_nbformat": 4
 },
 "nbformat": 4,
 "nbformat_minor": 2
}
